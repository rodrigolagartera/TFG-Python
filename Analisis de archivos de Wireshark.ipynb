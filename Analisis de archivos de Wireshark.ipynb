{
 "cells": [
  {
   "cell_type": "code",
   "execution_count": 4,
   "metadata": {},
   "outputs": [],
   "source": [
    "import numpy as np"
   ]
  },
  {
   "cell_type": "markdown",
   "metadata": {},
   "source": [
    "#### Parseo de los elementos del archivo carrays"
   ]
  },
  {
   "cell_type": "code",
   "execution_count": 27,
   "metadata": {},
   "outputs": [
    {
     "name": "stdout",
     "output_type": "stream",
     "text": [
      "[['0xb8', '0x27', '0xeb', '0xe5', '0x5c', '0xf7', '0x30', '0x9c'], ['0x23', '0x8e', '0x69', '0xc4', '0x86', '0xdd', '0x60', '0x00'], ['0x00', '0x00', '0x00', '0x28', '0x3a', '0x80', '0xfe', '0x80'], ['0x00', '0x00', '0x00', '0x00', '0x00', '0x00', '0xfc', '0x79'], ['0x5c', '0xba', '0xba', '0x9b', '0xe6', '0x79', '0xfe', '0x80'], ['0x00', '0x00', '0x00', '0x00', '0x00', '0x00', '0xac', '0xdc'], ['0x5a', '0x29', '0xf5', '0x3d', '0x9c', '0x5f', '0x80', '0x00'], ['0x45', '0x04', '0x00', '0x01', '0x00', '0x05', '0x61', '0x62'], ['0x63', '0x64', '0x65', '0x66', '0x67', '0x68', '0x69', '0x6a'], ['0x6b', '0x6c', '0x6d', '0x6e', '0x6f', '0x70', '0x71', '0x72'], ['0x73', '0x74', '0x75', '0x76', '0x77', '0x61', '0x62', '0x63'], ['0x64', '0x65', '0x66', '0x67', '0x68', '0x69', None, None]]\n"
     ]
    }
   ],
   "source": [
    "f = open(\"pruebaraspi.txt\", \"r\") #Abrimos el documento generado\n",
    "frame = f.readline() #Leemos la primera linea\n",
    "principal = f.readline() #Leemos la descripción del paquete\n",
    "\n",
    "nbytes = frame[10]+frame[11] #Obtenemos el número de bytes de la primera línea\n",
    "nbytes = int(nbytes) #Convertimos el número a entero\n",
    "\n",
    "ncolumnas = 8 #El número de columnas siempre es 8\n",
    "nfilas = int(nbytes/ncolumnas) #Dividimos entre el numero de columnas para obtener el número de filas\n",
    "\n",
    "if (nbytes%8 != 0): #Si el numero de bytes no es multiplo de 8, le añadimos una fila más\n",
    "    nfilas += 1\n",
    "\n",
    "#Iniciamos la matriz a none, para que tenga un valor\n",
    "matriz = [None] * nfilas #Iniciamos la matriz, con el número de filas \n",
    "for i in range(nfilas): #Completamos con el número de columnas\n",
    "    matriz[i] = [None]*ncolumnas\n",
    "\n",
    "\n",
    "i=0\n",
    "#Bucle para obtener todos los datos del datagrama\n",
    "for linea in f:\n",
    "    j=0 #Inicializamos j al comenzar la fila\n",
    "    for caracter in linea.split(', '):\n",
    "        if (j < 8):\n",
    "            matriz[i][j] = caracter[0:4] #Para que coja solamente los 4 caracteres que queremos (se usa para el último caso sobre todo)\n",
    "            j+=1 #Incrementamos numero de columnas\n",
    "\n",
    "    i+=1 #Incrementamos numero de filas\n",
    "    if(i==nfilas): #Si el numero de filas es igual al limite, paramos la lectura\n",
    "        break\n",
    "print (matriz)####CHIVATO\n",
    "end = f.readline() #Cogemos el }; final\n",
    "f.readline()#Salto de línea\n",
    "\n",
    "\n",
    "f.close()"
   ]
  },
  {
   "cell_type": "markdown",
   "metadata": {},
   "source": [
    "#### Separación de cabeceras y elementos del datagrama"
   ]
  },
  {
   "cell_type": "code",
   "execution_count": 33,
   "metadata": {},
   "outputs": [
    {
     "name": "stdout",
     "output_type": "stream",
     "text": [
      "MAC Destino:  ['0xb8', '0x27', '0xeb', '0xe5', '0x5c', '0xf7']\n",
      "MAC Origen:  ['0x30', '0x9c', '0x23', '0x8e', '0x69', '0xc4']\n",
      "Tipo MAC:  ['0x86', '0xdd']\n",
      "VersionIP:  ['0x60']\n",
      "Cabecera IP:  ['0x60', '0x00', '0x00', '0x00', '0x00', '0x28', '0x3a', '0x80']\n",
      "IP Destino:  ['0xfe', '0x80', '0x00', '0x00', '0x00', '0x00', '0x00', '0x00', '0xac', '0xdc', '0x5a', '0x29', '0xf5', '0x3d', '0x9c', '0x5f']\n",
      "IP Origen:  ['0xfe', '0x80', '0x00', '0x00', '0x00', '0x00', '0x00', '0x00', '0xfc', '0x79', '0x5c', '0xba', '0xba', '0x9b', '0xe6', '0x79']\n",
      "Tipo IP:  ['0x80']\n",
      "Tipo ICMP:  ['0x00']\n",
      "Código ICMP:  ['0x45']\n",
      "Checksum ICMP:  ['0x04', '0x00']\n"
     ]
    }
   ],
   "source": [
    "contador = 0 #Contador para ir obteniendo los bytes del mensaje\n",
    "macdest = [] #Direccion MAC Destino\n",
    "macorig = [] #Dirección MAC Origen\n",
    "tipo = [] #Tipo de mensaje que utiliza\n",
    "versionip = [] #Version de ip utilizada\n",
    "cabip = [] #Parámetros de la cabecera IP\n",
    "ipdest = [] #Dirección IP Destino\n",
    "iporig = [] #Dirección IP Origen\n",
    "iptype = [] #Tipo de Mensaje IP\n",
    "icmptype = [] #Tipo de mensaje ICMP\n",
    "icmpcode = [] #Código del mesaje ICMP\n",
    "icmpchecksum = [] #Checksum del ICMP\n",
    "ipversion= \"\"\n",
    "i = 0\n",
    "#Recorrmos el mesaje extraido y lo vamos separando según los bytes que utiliza\n",
    "for i in range(nfilas):\n",
    "    j = 0\n",
    "    for j in range(ncolumnas):\n",
    "        if contador < 6:\n",
    "            macdest.append(matriz[i][j])\n",
    "        elif contador < 12: \n",
    "            macorig.append(matriz[i][j])\n",
    "        elif contador < 14:  \n",
    "            tipo.append(matriz[i][j])\n",
    "        elif contador < 15:\n",
    "            versionip.append(matriz[i][j])\n",
    "            ipversion = matriz[i][j]\n",
    "            ipversion = ipversion[2]\n",
    "        if ipversion == '4': #Tratamos si usa ipv4\n",
    "            if contador < 26:\n",
    "                cabip.append(matriz[i][j])\n",
    "            elif contador < 30:\n",
    "                iporig.append(matriz[i][j])\n",
    "            elif contador < 34:\n",
    "                ipdest.append(matriz[i][j])\n",
    "            elif contador < 35:\n",
    "                iptype.append(matriz[i][j])\n",
    "            elif contador < 36:\n",
    "                icmptype.append(matriz[i][j])\n",
    "            elif contador < 37:\n",
    "                icmpcode.append(matriz[i][j])\n",
    "            elif contador < 39:\n",
    "                icmpchecksum.append(matriz[i][j])\n",
    "            else:\n",
    "                break  \n",
    "        elif ipversion == '6': #Tratamos si usa ipv6\n",
    "            if contador < 22:\n",
    "                cabip.append(matriz[i][j])\n",
    "            elif contador < 38:\n",
    "                iporig.append(matriz[i][j])\n",
    "            elif contador < 54:\n",
    "                ipdest.append(matriz[i][j])\n",
    "            elif contador < 55:\n",
    "                iptype.append(matriz[i][j])\n",
    "            elif contador < 56:\n",
    "                icmptype.append(matriz[i][j])\n",
    "            elif contador < 57:\n",
    "                icmpcode.append(matriz[i][j])\n",
    "            elif contador < 59:\n",
    "                icmpchecksum.append(matriz[i][j])\n",
    "            else:\n",
    "                break\n",
    "        contador += 1\n",
    "print (\"MAC Destino: \",macdest)\n",
    "print (\"MAC Origen: \",macorig)\n",
    "print (\"Tipo MAC: \",tipo)\n",
    "print (\"VersionIP: \",versionip)\n",
    "print (\"Cabecera IP: \",cabip)\n",
    "print (\"IP Destino: \",ipdest)\n",
    "print (\"IP Origen: \",iporig)\n",
    "print (\"Tipo IP: \",iptype)\n",
    "print (\"Tipo ICMP: \",icmptype)\n",
    "print (\"Código ICMP: \",icmpcode)\n",
    "print (\"Checksum ICMP: \",icmpchecksum)\n"
   ]
  },
  {
   "cell_type": "code",
   "execution_count": null,
   "metadata": {},
   "outputs": [],
   "source": []
  }
 ],
 "metadata": {
  "kernelspec": {
   "display_name": "Python 3",
   "language": "python",
   "name": "python3"
  },
  "language_info": {
   "codemirror_mode": {
    "name": "ipython",
    "version": 3
   },
   "file_extension": ".py",
   "mimetype": "text/x-python",
   "name": "python",
   "nbconvert_exporter": "python",
   "pygments_lexer": "ipython3",
   "version": "3.6.5"
  }
 },
 "nbformat": 4,
 "nbformat_minor": 2
}
