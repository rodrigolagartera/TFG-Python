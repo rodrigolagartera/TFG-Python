{
 "cells": [
  {
   "cell_type": "code",
   "execution_count": 111,
   "metadata": {},
   "outputs": [],
   "source": [
    "import numpy as np"
   ]
  },
  {
   "cell_type": "markdown",
   "metadata": {},
   "source": [
    "#### Parseo de los elementos del archivo carrays"
   ]
  },
  {
   "cell_type": "code",
   "execution_count": 112,
   "metadata": {},
   "outputs": [
    {
     "name": "stdout",
     "output_type": "stream",
     "text": [
      "[['0x08', '0x00', '0x27', '0xac', '0xfd', '0x3d', '0x08', '0x00'], ['0x27', '0x15', '0x84', '0x47', '0x08', '0x00', '0x45', '0x00'], ['0x00', '0x3c', '0x7c', '0x51', '0x40', '0x00', '0x40', '0x06'], ['0x3b', '0x0f', '0xc0', '0xa8', '0x01', '0x01', '0xc0', '0xa8'], ['0x01', '0x0a', '0xd2', '0x22', '0x00', '0x50', '0x6c', '0xc8'], ['0xd4', '0x40', '0x00', '0x00', '0x00', '0x00', '0xa0', '0x02'], ['0x72', '0x10', '0x55', '0x73', '0x00', '0x00', '0x02', '0x04'], ['0x05', '0xb4', '0x04', '0x02', '0x08', '0x0a', '0x5c', '0xa1'], ['0x8d', '0x03', '0x00', '0x00', '0x00', '0x00', '0x01', '0x03'], ['0x03', '0x07', None, None, None, None, None, None]]\n"
     ]
    }
   ],
   "source": [
    "f = open(\"conexiontcp.txt\", \"r\") #Abrimos el documento generado\n",
    "frame = f.readline() #Leemos la primera linea\n",
    "principal = f.readline() #Leemos la descripción del paquete\n",
    "\n",
    "nbytes = frame[10]+frame[11] #Obtenemos el número de bytes de la primera línea\n",
    "nbytes = int(nbytes) #Convertimos el número a entero\n",
    "\n",
    "ncolumnas = 8 #El número de columnas siempre es 8\n",
    "nfilas = int(nbytes/ncolumnas) #Dividimos entre el numero de columnas para obtener el número de filas\n",
    "\n",
    "if (nbytes%8 != 0): #Si el numero de bytes no es multiplo de 8, le añadimos una fila más\n",
    "    nfilas += 1\n",
    "\n",
    "#Iniciamos la matriz a none, para que tenga un valor\n",
    "matriz = [None] * nfilas #Iniciamos la matriz, con el número de filas \n",
    "for i in range(nfilas): #Completamos con el número de columnas\n",
    "    matriz[i] = [None]*ncolumnas\n",
    "\n",
    "\n",
    "i=0\n",
    "#Bucle para obtener todos los datos del datagrama\n",
    "for linea in f:\n",
    "    j=0 #Inicializamos j al comenzar la fila\n",
    "    for caracter in linea.split(', '):\n",
    "        if (j < 8):\n",
    "            matriz[i][j] = caracter[0:4] #Para que coja solamente los 4 caracteres que queremos (se usa para el último caso sobre todo)\n",
    "            j+=1 #Incrementamos numero de columnas\n",
    "\n",
    "    i+=1 #Incrementamos numero de filas\n",
    "    if(i==nfilas): #Si el numero de filas es igual al limite, paramos la lectura\n",
    "        break\n",
    "print (matriz)####CHIVATO\n",
    "end = f.readline() #Cogemos el }; final\n",
    "f.readline()#Salto de línea\n",
    "\n",
    "\n",
    "f.close()"
   ]
  },
  {
   "cell_type": "markdown",
   "metadata": {},
   "source": [
    "### Elementos del mensaje"
   ]
  },
  {
   "cell_type": "code",
   "execution_count": 113,
   "metadata": {},
   "outputs": [],
   "source": [
    "def elementos():\n",
    "    print (\"MAC Destino: \",macdest)\n",
    "    print (\"MAC Origen: \",macorig)\n",
    "    print (\"Tipo MAC: \",tipo)\n",
    "    print (\"VersionIP: \",versionip)\n",
    "    print (\"Cabecera IP: \",cabip)\n",
    "    print (\"Protocolo IP: \",tipoprotocoloip)\n",
    "    print (\"Checksum cabecera IP: \",headerchecksumip)\n",
    "    print (\"IP Destino: \",ipdest)\n",
    "    print (\"IP Origen: \",iporig)\n",
    "    #print (\"Tipo IP: \",iptype)\n",
    "    #print (\"Tipo ICMP: \",icmptype)\n",
    "    #print (\"Código ICMP: \",icmpcode)\n",
    "    #print (\"Checksum ICMP: \",icmpchecksum)\n",
    "    print(\"Puerto origen TCP: \",tcpsourceport)\n",
    "    print(\"Puerto destino TCP: \",tcpdestport)\n",
    "    print(\"Número de secuencia TCP: \",tcpsequencenumber)\n",
    "    print(\"Numero de ACK TCP: \",tcpacknowledgenumber)\n",
    "    print(\"Longitud de cabecera TCP: \",tcpheaderlenght)\n",
    "    print(\"Flag TCP: \",tcpflag)\n",
    "    print(\"Tamaño de ventana TCP: \",tcpwinsizevalue)\n",
    "    print(\"Checksum TCP: \",tcpchecksum)\n",
    "    print(\"Urgent pointer TCP: \",tcpurgentpointer)\n",
    "    print(\"Tamaño máximo de segmento TCP: \",tcpmaxsegmentsize)\n",
    "    print(\"Opción Sack TCP: \",tcpsackoption)\n",
    "    print(\"Timestamps TCP: \",tcptimestamps)\n",
    "    print(\"NoOperation TCP: \",tcpnop)\n",
    "    print(\"Escala de ventana TCP: \",tcpwindowscale)"
   ]
  },
  {
   "cell_type": "markdown",
   "metadata": {},
   "source": [
    "### Datagrama ICMP"
   ]
  },
  {
   "cell_type": "code",
   "execution_count": 114,
   "metadata": {},
   "outputs": [],
   "source": [
    "def protocoloicmp(ipversion,contador, matriz, i,j):\n",
    "    if ipversion == '4':\n",
    "        if contador < 35:\n",
    "            iptype.append(matriz[i][j])\n",
    "        elif contador < 36:\n",
    "            icmptype.append(matriz[i][j])\n",
    "        elif contador < 37:\n",
    "            icmpcode.append(matriz[i][j])\n",
    "        elif contador < 39:\n",
    "            icmpchecksum.append(matriz[i][j])\n",
    "    elif ipversion== '6':\n",
    "        if contador < 55:\n",
    "            iptype.append(matriz[i][j])\n",
    "        elif contador < 56:\n",
    "            icmptype.append(matriz[i][j])\n",
    "        elif contador < 57:\n",
    "            icmpcode.append(matriz[i][j])\n",
    "        elif contador < 59:\n",
    "            icmpchecksum.append(matriz[i][j])"
   ]
  },
  {
   "cell_type": "markdown",
   "metadata": {},
   "source": [
    "### Flags TCP"
   ]
  },
  {
   "cell_type": "code",
   "execution_count": 127,
   "metadata": {},
   "outputs": [],
   "source": [
    "def flagstcp(contador, matriz, i, j):\n",
    "    global flagtcp\n",
    "    if contador < 50:\n",
    "        tcpwinsizevalue.append(matriz[i][j]) \n",
    "    elif contador < 52:\n",
    "        tcpchecksum.append(matriz[i][j])\n",
    "    elif contador < 54:\n",
    "        tcpurgentpointer.append(matriz[i][j])\n",
    "    if flagtcp == '02' and contador >= 54:\n",
    "        if contador < 58:\n",
    "            tcpmaxsegmentsize.append(matriz[i][j])\n",
    "        elif contador < 60:\n",
    "            tcpsackoption.append(matriz[i][j])\n",
    "        elif contador < 70:\n",
    "            tcptimestamps.append(matriz[i][j])\n",
    "        elif contador < 71:\n",
    "            tcpnop.append(matriz[i][j])\n",
    "        elif contador < 74:\n",
    "            tcpwindowscale.append(matriz[i][j])"
   ]
  },
  {
   "cell_type": "markdown",
   "metadata": {},
   "source": [
    "### Datagrama TCP"
   ]
  },
  {
   "cell_type": "code",
   "execution_count": 128,
   "metadata": {},
   "outputs": [],
   "source": [
    "def protocolotcp(contador, matriz, i,j):\n",
    "    global flagtcp\n",
    "    if contador < 36:\n",
    "        tcpsourceport.append(matriz[i][j])\n",
    "    elif contador < 38:\n",
    "        tcpdestport.append(matriz[i][j])\n",
    "    elif contador < 42:\n",
    "        tcpsequencenumber.append(matriz[i][j]) \n",
    "    elif contador < 46:\n",
    "        tcpacknowledgenumber.append(matriz[i][j]) \n",
    "    elif contador < 47:\n",
    "        tcpheaderlenght.append(matriz[i][j])    \n",
    "    elif contador < 48:\n",
    "        tcpflag.append(matriz[i][j])\n",
    "        flagtcp = matriz[i][j][2]+matriz[i][j][3]\n",
    "    else:\n",
    "        flagstcp(contador, matriz, i, j)\n",
    "        "
   ]
  },
  {
   "cell_type": "markdown",
   "metadata": {},
   "source": [
    "### Datagrama IP"
   ]
  },
  {
   "cell_type": "code",
   "execution_count": 129,
   "metadata": {},
   "outputs": [],
   "source": [
    "def protocoloip (ipversion,contador, matriz, i,j):\n",
    "    global ipprotocol\n",
    "    if ipversion == '4': #Tratamos si usa ipv4\n",
    "        if contador < 23:\n",
    "            cabip.append(matriz[i][j])\n",
    "        elif contador < 24:\n",
    "            tipoprotocoloip.append(matriz[i][j])\n",
    "            ipprotocol = matriz[i][j][3]\n",
    "        elif contador < 26:\n",
    "            headerchecksumip.append(matriz[i][j])\n",
    "        elif contador < 30:\n",
    "            iporig.append(matriz[i][j])\n",
    "        elif contador < 34:\n",
    "            ipdest.append(matriz[i][j])\n",
    "        else:\n",
    "            if ipprotocol == '6':\n",
    "                protocolotcp(contador, matriz, i,j)\n",
    "            else:\n",
    "                protocoloicmp(ipversion,contador, matriz,i,j) \n",
    "    elif ipversion == '6': #Tratamos si usa ipv6\n",
    "        if contador < 22:\n",
    "            cabip.append(matriz[i][j])\n",
    "        elif contador < 38:\n",
    "            iporig.append(matriz[i][j])\n",
    "        elif contador < 54:\n",
    "            ipdest.append(matriz[i][j])\n",
    "        else:    \n",
    "            protocoloicmp(contador, matriz,i,j)      "
   ]
  },
  {
   "cell_type": "markdown",
   "metadata": {},
   "source": [
    "#### Separación de cabeceras y elementos del datagrama"
   ]
  },
  {
   "cell_type": "code",
   "execution_count": 130,
   "metadata": {},
   "outputs": [
    {
     "name": "stdout",
     "output_type": "stream",
     "text": [
      "MAC Destino:  ['0x08', '0x00', '0x27', '0xac', '0xfd', '0x3d']\n",
      "MAC Origen:  ['0x08', '0x00', '0x27', '0x15', '0x84', '0x47']\n",
      "Tipo MAC:  ['0x08', '0x00']\n",
      "VersionIP:  ['0x45']\n",
      "Cabecera IP:  ['0x00', '0x00', '0x3c', '0x7c', '0x51', '0x40', '0x00', '0x40']\n",
      "Protocolo IP:  ['0x06']\n",
      "Checksum cabecera IP:  ['0x3b', '0x0f']\n",
      "IP Destino:  ['0xc0', '0xa8', '0x01', '0x0a']\n",
      "IP Origen:  ['0xc0', '0xa8', '0x01', '0x01']\n",
      "Puerto origen TCP:  ['0xd2', '0x22']\n",
      "Puerto destino TCP:  ['0x00', '0x50']\n",
      "Número de secuencia TCP:  ['0x6c', '0xc8', '0xd4', '0x40']\n",
      "Numero de ACK TCP:  ['0x00', '0x00', '0x00', '0x00']\n",
      "Longitud de cabecera TCP:  ['0xa0']\n",
      "Flag TCP:  ['0x02']\n",
      "Tamaño de ventana TCP:  ['0x72', '0x10']\n",
      "Checksum TCP:  ['0x55', '0x73']\n",
      "Urgent pointer TCP:  ['0x00', '0x00']\n",
      "Tamaño máximo de segmento TCP:  ['0x02', '0x04', '0x05', '0xb4']\n",
      "Opción Sack TCP:  ['0x04', '0x02']\n",
      "Timestamps TCP:  ['0x08', '0x0a', '0x5c', '0xa1', '0x8d', '0x03', '0x00', '0x00', '0x00', '0x00']\n",
      "NoOperation TCP:  ['0x01']\n",
      "Escala de ventana TCP:  ['0x03', '0x03', '0x07']\n"
     ]
    }
   ],
   "source": [
    "contador = 0 #Contador para ir obteniendo los bytes del mensaje\n",
    "macdest = [] #Direccion MAC Destino\n",
    "macorig = [] #Dirección MAC Origen\n",
    "tipo = [] #Tipo de mensaje que utiliza\n",
    "versionip = [] #Version de ip utilizada\n",
    "ipversion = \"\"\n",
    "\n",
    "cabip = [] #Parámetros de la cabecera IP\n",
    "tipoprotocoloip = []#Tipo de protocolo que utiliza el mensaje IP\n",
    "headerchecksumip = []#Checksum de la cabecera ip\n",
    "ipdest = [] #Dirección IP Destino\n",
    "iporig = [] #Dirección IP Origen\n",
    "ipprotocol = \"\"\n",
    "\n",
    "tcpsourceport = [] #Puerto origen para el datagrama TCP\n",
    "tcpdestport = [] #Puerto destino para el datagrama TCP\n",
    "tcpsequencenumber = [] #Número de secuencia del datagrama TCP\n",
    "tcpacknowledgenumber = [] #Número de acknowledge del datagrama TCP\n",
    "tcpheaderlenght = [] #Longitud de cabecera del datagrama TCP\n",
    "tcpflag = [] #Flag del datagrama TCP\n",
    "tcpwinsizevalue = [] #Tamaño de ventana del datagrama TCP\n",
    "tcpchecksum = [] #Checksum del datagrama TCP\n",
    "tcpurgentpointer = [] #Urgent pinter del datagrama TCP\n",
    "tcpmaxsegmentsize = [] #Tamaño máximo del segmento del datagrama TCP\n",
    "tcpsackoption = [] #Opcion sack del datagrama TCP\n",
    "tcptimestamps = [] #Timestamos del datagrama TCP\n",
    "tcpnop = [] #Operacion no del datagrama TCP\n",
    "tcpwindowscale = [] #Escala de ventana del datagrama TCP\n",
    "flagtcp = \"\"\n",
    "\n",
    "icmptype = [] #Tipo de mensaje ICMP\n",
    "icmpcode = [] #Código del mesaje ICMP\n",
    "icmpchecksum = [] #Checksum del ICMP\n",
    "iptype = [] #Tipo de Mensaje IP\n",
    "\n",
    "i = 0\n",
    "#Recorrmos el mesaje extraido y lo vamos separando según los bytes que utiliza\n",
    "for i in range(nfilas):\n",
    "    j = 0\n",
    "    for j in range(ncolumnas):\n",
    "        if contador < 6:\n",
    "            macdest.append(matriz[i][j])\n",
    "        elif contador < 12: \n",
    "            macorig.append(matriz[i][j])\n",
    "        elif contador < 14:  \n",
    "            tipo.append(matriz[i][j])\n",
    "        elif contador < 15:\n",
    "            versionip.append(matriz[i][j])\n",
    "            ipversion = matriz[i][j][2]\n",
    "        else:\n",
    "            protocoloip(ipversion, contador, matriz, i,j)   \n",
    "        contador += 1\n",
    "elementos()"
   ]
  },
  {
   "cell_type": "code",
   "execution_count": null,
   "metadata": {},
   "outputs": [],
   "source": []
  },
  {
   "cell_type": "code",
   "execution_count": null,
   "metadata": {},
   "outputs": [],
   "source": []
  }
 ],
 "metadata": {
  "kernelspec": {
   "display_name": "Python 3",
   "language": "python",
   "name": "python3"
  },
  "language_info": {
   "codemirror_mode": {
    "name": "ipython",
    "version": 3
   },
   "file_extension": ".py",
   "mimetype": "text/x-python",
   "name": "python",
   "nbconvert_exporter": "python",
   "pygments_lexer": "ipython3",
   "version": "3.6.5"
  }
 },
 "nbformat": 4,
 "nbformat_minor": 2
}
